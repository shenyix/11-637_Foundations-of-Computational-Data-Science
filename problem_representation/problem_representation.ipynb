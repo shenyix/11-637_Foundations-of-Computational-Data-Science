{
 "cells": [
  {
   "cell_type": "markdown",
   "metadata": {
    "colab_type": "text",
    "id": "r9UxvjbS6Aeq"
   },
   "source": [
    "# Project 2: Problem Representation\n",
    "This project will help you familiarize with the standard data science toolkits: Numpy, Pandas for data processing and Matplotlib / Seaborn for visualization, with a focus on Numpy and Pandas. On a more conceptual level, we will be looking at how a data science problem can be represented in different ways and tackled from different perspectives.\n",
    "\n",
    "You are encouraged to consult the NumPy documentation and Pandas documentation while working on this project. Both libraries offer many useful built-in functions that can speed up your code."
   ]
  },
  {
   "cell_type": "markdown",
   "metadata": {
    "colab_type": "text",
    "id": "xNFuB48tnRCU"
   },
   "source": [
    "## Data-set Overview\n",
    "We will be working with a movie rating dataset from the MovieLens web site (http://movielens.org). Specifically, we are going to use the **100K Dataset** which has 100,000 ratings from 943 users on 1682 movies.\n",
    "\n",
    "Please visit the [README](http://files.grouplens.org/datasets/movielens/ml-100k-README.txt) webpage to get detailed descriptions about the files in the dataset -- their content and format.\n",
    "\n",
    "For this project, we will use two files:\n",
    "* `u.data`: contains the user_id, item_id, rating score and timestamp of each review.\n",
    "* `u.item`: contains metadata about the movies.\n",
    "\n",
    "These files can be found in the handout directory `ml-100k`.\n",
    "\n",
    "Take a look at the online README to familiarize yourself with the format of the data in these files. **Note that the `item_id` column in `u.data` corresponds to the `movie_id` column in `u.item`**."
   ]
  },
  {
   "cell_type": "code",
   "execution_count": 156,
   "metadata": {
    "colab": {
     "base_uri": "https://localhost:8080/",
     "height": 71
    },
    "colab_type": "code",
    "id": "vnOt5TuZBUxT",
    "outputId": "17358aaa-7155-470b-855e-0bdb6ca76442"
   },
   "outputs": [],
   "source": [
    "# import library modules\n",
    "from collections import defaultdict, Counter\n",
    "from scipy.sparse import csr_matrix, coo_matrix, csc_matrix\n",
    "\n",
    "import sys\n",
    "import argparse\n",
    "import pandas as pd\n",
    "import numpy as np\n",
    "import scipy.sparse as sp\n",
    "import scipy.linalg as la\n",
    "from datetime import datetime\n",
    "import seaborn as sns"
   ]
  },
  {
   "cell_type": "code",
   "execution_count": 5,
   "metadata": {
    "colab": {
     "base_uri": "https://localhost:8080/",
     "height": 119
    },
    "colab_type": "code",
    "id": "QP6ESAXu2aaB",
    "outputId": "9180d2bd-a158-4950-c50a-cde0c061dce4"
   },
   "outputs": [],
   "source": [
    "# load the user-ratings data \n",
    "ratings = pd.read_csv('ml-100k/u.data', sep='\\t', names=['user_id', 'item_id', 'rating', 'timestamp'])\n",
    "\n",
    "# load the movie metadata \n",
    "columns = ['movie_id', 'movie_title', 'release_date', 'video_release_date', 'IMDb_URL',\n",
    "           'unknown', 'Action', 'Adventure', 'Animation', 'Children', 'Comedy',\n",
    "           'Crime', 'Documentary', 'Drama', 'Fantasy', 'Film-Noir', 'Horror',\n",
    "           'Musical', 'Mystery', 'Romance', 'Sci-Fi', 'Thriller', 'War', 'Western']\n",
    "\n",
    "genres = columns[ columns.index('Action'):]\n",
    "movies = pd.read_csv('ml-100k/u.item', sep='|', names=columns, index_col='movie_id', encoding=\"ISO-8859-1\")\n",
    "movies.insert(0, 'movie', range(1, 1 + len(movies)))"
   ]
  },
  {
   "cell_type": "code",
   "execution_count": 6,
   "metadata": {
    "colab": {
     "base_uri": "https://localhost:8080/",
     "height": 170
    },
    "colab_type": "code",
    "id": "V0O144aGs3-f",
    "outputId": "da8a43d2-dd43-434a-a2d7-a775b75849d1",
    "tags": [
     "excluded_from_script"
    ]
   },
   "outputs": [
    {
     "name": "stdout",
     "output_type": "stream",
     "text": [
      "Ratings data\n"
     ]
    },
    {
     "data": {
      "text/html": [
       "<div>\n",
       "<style scoped>\n",
       "    .dataframe tbody tr th:only-of-type {\n",
       "        vertical-align: middle;\n",
       "    }\n",
       "\n",
       "    .dataframe tbody tr th {\n",
       "        vertical-align: top;\n",
       "    }\n",
       "\n",
       "    .dataframe thead th {\n",
       "        text-align: right;\n",
       "    }\n",
       "</style>\n",
       "<table border=\"1\" class=\"dataframe\">\n",
       "  <thead>\n",
       "    <tr style=\"text-align: right;\">\n",
       "      <th></th>\n",
       "      <th>user_id</th>\n",
       "      <th>item_id</th>\n",
       "      <th>rating</th>\n",
       "      <th>timestamp</th>\n",
       "    </tr>\n",
       "  </thead>\n",
       "  <tbody>\n",
       "    <tr>\n",
       "      <th>0</th>\n",
       "      <td>196</td>\n",
       "      <td>242</td>\n",
       "      <td>3</td>\n",
       "      <td>881250949</td>\n",
       "    </tr>\n",
       "    <tr>\n",
       "      <th>1</th>\n",
       "      <td>186</td>\n",
       "      <td>302</td>\n",
       "      <td>3</td>\n",
       "      <td>891717742</td>\n",
       "    </tr>\n",
       "    <tr>\n",
       "      <th>2</th>\n",
       "      <td>22</td>\n",
       "      <td>377</td>\n",
       "      <td>1</td>\n",
       "      <td>878887116</td>\n",
       "    </tr>\n",
       "    <tr>\n",
       "      <th>3</th>\n",
       "      <td>244</td>\n",
       "      <td>51</td>\n",
       "      <td>2</td>\n",
       "      <td>880606923</td>\n",
       "    </tr>\n",
       "    <tr>\n",
       "      <th>4</th>\n",
       "      <td>166</td>\n",
       "      <td>346</td>\n",
       "      <td>1</td>\n",
       "      <td>886397596</td>\n",
       "    </tr>\n",
       "  </tbody>\n",
       "</table>\n",
       "</div>"
      ],
      "text/plain": [
       "   user_id  item_id  rating  timestamp\n",
       "0      196      242       3  881250949\n",
       "1      186      302       3  891717742\n",
       "2       22      377       1  878887116\n",
       "3      244       51       2  880606923\n",
       "4      166      346       1  886397596"
      ]
     },
     "metadata": {},
     "output_type": "display_data"
    },
    {
     "name": "stdout",
     "output_type": "stream",
     "text": [
      "Movie data\n"
     ]
    },
    {
     "data": {
      "text/html": [
       "<div>\n",
       "<style scoped>\n",
       "    .dataframe tbody tr th:only-of-type {\n",
       "        vertical-align: middle;\n",
       "    }\n",
       "\n",
       "    .dataframe tbody tr th {\n",
       "        vertical-align: top;\n",
       "    }\n",
       "\n",
       "    .dataframe thead th {\n",
       "        text-align: right;\n",
       "    }\n",
       "</style>\n",
       "<table border=\"1\" class=\"dataframe\">\n",
       "  <thead>\n",
       "    <tr style=\"text-align: right;\">\n",
       "      <th></th>\n",
       "      <th>movie</th>\n",
       "      <th>movie_title</th>\n",
       "      <th>release_date</th>\n",
       "      <th>video_release_date</th>\n",
       "      <th>IMDb_URL</th>\n",
       "      <th>unknown</th>\n",
       "      <th>Action</th>\n",
       "      <th>Adventure</th>\n",
       "      <th>Animation</th>\n",
       "      <th>Children</th>\n",
       "      <th>...</th>\n",
       "      <th>Fantasy</th>\n",
       "      <th>Film-Noir</th>\n",
       "      <th>Horror</th>\n",
       "      <th>Musical</th>\n",
       "      <th>Mystery</th>\n",
       "      <th>Romance</th>\n",
       "      <th>Sci-Fi</th>\n",
       "      <th>Thriller</th>\n",
       "      <th>War</th>\n",
       "      <th>Western</th>\n",
       "    </tr>\n",
       "    <tr>\n",
       "      <th>movie_id</th>\n",
       "      <th></th>\n",
       "      <th></th>\n",
       "      <th></th>\n",
       "      <th></th>\n",
       "      <th></th>\n",
       "      <th></th>\n",
       "      <th></th>\n",
       "      <th></th>\n",
       "      <th></th>\n",
       "      <th></th>\n",
       "      <th></th>\n",
       "      <th></th>\n",
       "      <th></th>\n",
       "      <th></th>\n",
       "      <th></th>\n",
       "      <th></th>\n",
       "      <th></th>\n",
       "      <th></th>\n",
       "      <th></th>\n",
       "      <th></th>\n",
       "      <th></th>\n",
       "    </tr>\n",
       "  </thead>\n",
       "  <tbody>\n",
       "    <tr>\n",
       "      <th>1</th>\n",
       "      <td>1</td>\n",
       "      <td>Toy Story (1995)</td>\n",
       "      <td>01-Jan-1995</td>\n",
       "      <td>NaN</td>\n",
       "      <td>http://us.imdb.com/M/title-exact?Toy%20Story%2...</td>\n",
       "      <td>0</td>\n",
       "      <td>0</td>\n",
       "      <td>0</td>\n",
       "      <td>1</td>\n",
       "      <td>1</td>\n",
       "      <td>...</td>\n",
       "      <td>0</td>\n",
       "      <td>0</td>\n",
       "      <td>0</td>\n",
       "      <td>0</td>\n",
       "      <td>0</td>\n",
       "      <td>0</td>\n",
       "      <td>0</td>\n",
       "      <td>0</td>\n",
       "      <td>0</td>\n",
       "      <td>0</td>\n",
       "    </tr>\n",
       "    <tr>\n",
       "      <th>2</th>\n",
       "      <td>2</td>\n",
       "      <td>GoldenEye (1995)</td>\n",
       "      <td>01-Jan-1995</td>\n",
       "      <td>NaN</td>\n",
       "      <td>http://us.imdb.com/M/title-exact?GoldenEye%20(...</td>\n",
       "      <td>0</td>\n",
       "      <td>1</td>\n",
       "      <td>1</td>\n",
       "      <td>0</td>\n",
       "      <td>0</td>\n",
       "      <td>...</td>\n",
       "      <td>0</td>\n",
       "      <td>0</td>\n",
       "      <td>0</td>\n",
       "      <td>0</td>\n",
       "      <td>0</td>\n",
       "      <td>0</td>\n",
       "      <td>0</td>\n",
       "      <td>1</td>\n",
       "      <td>0</td>\n",
       "      <td>0</td>\n",
       "    </tr>\n",
       "    <tr>\n",
       "      <th>3</th>\n",
       "      <td>3</td>\n",
       "      <td>Four Rooms (1995)</td>\n",
       "      <td>01-Jan-1995</td>\n",
       "      <td>NaN</td>\n",
       "      <td>http://us.imdb.com/M/title-exact?Four%20Rooms%...</td>\n",
       "      <td>0</td>\n",
       "      <td>0</td>\n",
       "      <td>0</td>\n",
       "      <td>0</td>\n",
       "      <td>0</td>\n",
       "      <td>...</td>\n",
       "      <td>0</td>\n",
       "      <td>0</td>\n",
       "      <td>0</td>\n",
       "      <td>0</td>\n",
       "      <td>0</td>\n",
       "      <td>0</td>\n",
       "      <td>0</td>\n",
       "      <td>1</td>\n",
       "      <td>0</td>\n",
       "      <td>0</td>\n",
       "    </tr>\n",
       "    <tr>\n",
       "      <th>4</th>\n",
       "      <td>4</td>\n",
       "      <td>Get Shorty (1995)</td>\n",
       "      <td>01-Jan-1995</td>\n",
       "      <td>NaN</td>\n",
       "      <td>http://us.imdb.com/M/title-exact?Get%20Shorty%...</td>\n",
       "      <td>0</td>\n",
       "      <td>1</td>\n",
       "      <td>0</td>\n",
       "      <td>0</td>\n",
       "      <td>0</td>\n",
       "      <td>...</td>\n",
       "      <td>0</td>\n",
       "      <td>0</td>\n",
       "      <td>0</td>\n",
       "      <td>0</td>\n",
       "      <td>0</td>\n",
       "      <td>0</td>\n",
       "      <td>0</td>\n",
       "      <td>0</td>\n",
       "      <td>0</td>\n",
       "      <td>0</td>\n",
       "    </tr>\n",
       "    <tr>\n",
       "      <th>5</th>\n",
       "      <td>5</td>\n",
       "      <td>Copycat (1995)</td>\n",
       "      <td>01-Jan-1995</td>\n",
       "      <td>NaN</td>\n",
       "      <td>http://us.imdb.com/M/title-exact?Copycat%20(1995)</td>\n",
       "      <td>0</td>\n",
       "      <td>0</td>\n",
       "      <td>0</td>\n",
       "      <td>0</td>\n",
       "      <td>0</td>\n",
       "      <td>...</td>\n",
       "      <td>0</td>\n",
       "      <td>0</td>\n",
       "      <td>0</td>\n",
       "      <td>0</td>\n",
       "      <td>0</td>\n",
       "      <td>0</td>\n",
       "      <td>0</td>\n",
       "      <td>1</td>\n",
       "      <td>0</td>\n",
       "      <td>0</td>\n",
       "    </tr>\n",
       "  </tbody>\n",
       "</table>\n",
       "<p>5 rows × 24 columns</p>\n",
       "</div>"
      ],
      "text/plain": [
       "          movie        movie_title release_date  video_release_date  \\\n",
       "movie_id                                                              \n",
       "1             1   Toy Story (1995)  01-Jan-1995                 NaN   \n",
       "2             2   GoldenEye (1995)  01-Jan-1995                 NaN   \n",
       "3             3  Four Rooms (1995)  01-Jan-1995                 NaN   \n",
       "4             4  Get Shorty (1995)  01-Jan-1995                 NaN   \n",
       "5             5     Copycat (1995)  01-Jan-1995                 NaN   \n",
       "\n",
       "                                                   IMDb_URL  unknown  Action  \\\n",
       "movie_id                                                                       \n",
       "1         http://us.imdb.com/M/title-exact?Toy%20Story%2...        0       0   \n",
       "2         http://us.imdb.com/M/title-exact?GoldenEye%20(...        0       1   \n",
       "3         http://us.imdb.com/M/title-exact?Four%20Rooms%...        0       0   \n",
       "4         http://us.imdb.com/M/title-exact?Get%20Shorty%...        0       1   \n",
       "5         http://us.imdb.com/M/title-exact?Copycat%20(1995)        0       0   \n",
       "\n",
       "          Adventure  Animation  Children  ...  Fantasy  Film-Noir  Horror  \\\n",
       "movie_id                                  ...                               \n",
       "1                 0          1         1  ...        0          0       0   \n",
       "2                 1          0         0  ...        0          0       0   \n",
       "3                 0          0         0  ...        0          0       0   \n",
       "4                 0          0         0  ...        0          0       0   \n",
       "5                 0          0         0  ...        0          0       0   \n",
       "\n",
       "          Musical  Mystery  Romance  Sci-Fi  Thriller  War  Western  \n",
       "movie_id                                                             \n",
       "1               0        0        0       0         0    0        0  \n",
       "2               0        0        0       0         1    0        0  \n",
       "3               0        0        0       0         1    0        0  \n",
       "4               0        0        0       0         0    0        0  \n",
       "5               0        0        0       0         1    0        0  \n",
       "\n",
       "[5 rows x 24 columns]"
      ]
     },
     "metadata": {},
     "output_type": "display_data"
    }
   ],
   "source": [
    "# note: this cell has been tagged with excluded_from_script.\n",
    "# you do not need to remove it when submitting your notebook.\n",
    "print(\"Ratings data\")\n",
    "display(ratings.head())\n",
    "\n",
    "print(\"Movie data\")\n",
    "display(movies.head())"
   ]
  },
  {
   "cell_type": "markdown",
   "metadata": {
    "colab_type": "text",
    "id": "kW6MnM3B0TuT"
   },
   "source": [
    "**Note:** as you use Pandas to work with dataframes, keep in mind that most Pandas operations return a new dataframe instead of modifying the caller dataframe. To get the latter behavior, you can either reassign the caller dataframe to the return value of the function, or look for the option `inplace = True` while calling the function."
   ]
  },
  {
   "cell_type": "markdown",
   "metadata": {
    "colab_type": "text",
    "id": "S9ebS1TkU3H8"
   },
   "source": [
    "\n",
    "## Part A: Data Exploration and Visualization\n",
    "---\n",
    "\n"
   ]
  },
  {
   "cell_type": "markdown",
   "metadata": {
    "colab_type": "text",
    "id": "oADTXJpy9A50"
   },
   "source": [
    "### Question 1: Movie ratings by genre\n",
    "Let's compare the average movie ratings by genre. Complete the function **`movie_rating_by_genre()`** which takes in the dataframes `movies` and `ratings`, along with the list `genres` of movie-genres. This function returns a dictionary where the key is a movie genre and the value is the average rating of the movies in that genre.\n",
    " \n",
    " \n",
    "**Notes**:\n",
    "* If a movie belongs to multiple genres, its rating(s) should be considered for each of those genres.\n",
    "* If a movie is rated multiple times, **do not** compute the average rating per movie and then average rating per genre; you should gather all of the ratings in each genre and compute the average only once."
   ]
  },
  {
   "cell_type": "code",
   "execution_count": 31,
   "metadata": {},
   "outputs": [],
   "source": [
    "\n",
    "def movie_rating_by_genre(ratings, movies, genres):\n",
    "    \"\"\"\n",
    "    Compute the average movie ratings by genres.\n",
    "\n",
    "    args:\n",
    "        ratings (pd.DataFrame)  : Dataframe containing user ratings\n",
    "        movies (pd.DataFrame)   : Dataframe containing movie attributes\n",
    "        genres (List[str]) :  the list of movie genres\n",
    "\n",
    "    return:\n",
    "        Dict[str, float]  : a mapping from movie genres to their average rating scores\n",
    "    \"\"\"\n",
    " \n",
    "    \n",
    "    temp1=pd.melt(movies,id_vars = ['movie'], value_vars =genres, var_name = \"genre\", value_name = \"val\")\n",
    "    temp2=temp1[temp1.val==1]\n",
    "    temp2=pd.merge(ratings, temp2, left_on='item_id',right_on=\"movie\")\n",
    "    out=temp2.groupby(\"genre\").agg(ratings=(\"rating\",\"mean\"))\n",
    "    out.insert(0, \"Genre\",genres, True)\n",
    "    return dict(out.values)"
   ]
  },
  {
   "cell_type": "code",
   "execution_count": 32,
   "metadata": {
    "colab": {
     "base_uri": "https://localhost:8080/",
     "height": 34
    },
    "colab_type": "code",
    "id": "uG7CHNCW91ec",
    "outputId": "90394295-57f4-418d-9865-44a32aec1935",
    "tags": [
     "excluded_from_script"
    ]
   },
   "outputs": [
    {
     "name": "stdout",
     "output_type": "stream",
     "text": [
      "All tests passed!\n"
     ]
    }
   ],
   "source": [
    "# local tests\n",
    "def test_movie_rating_by_genre():\n",
    "    genre_rating = movie_rating_by_genre(ratings, movies, genres)\n",
    "    assert len(genre_rating) == 18\n",
    "    assert np.allclose(genre_rating['Action'], 3.480245417953027)\n",
    "    print(\"All tests passed!\")\n",
    "\n",
    "test_movie_rating_by_genre()"
   ]
  },
  {
   "cell_type": "markdown",
   "metadata": {
    "colab_type": "text",
    "id": "5pzgPWE3SKKw"
   },
   "source": [
    "Now that we have the average movie ratings by genre, let's plot them and see how they compare:"
   ]
  },
  {
   "cell_type": "code",
   "execution_count": 33,
   "metadata": {
    "colab": {},
    "colab_type": "code",
    "id": "O8DrQY_LImte",
    "tags": [
     "excluded_from_script"
    ]
   },
   "outputs": [
    {
     "data": {
      "image/png": "[encoded data removed]",
      "text/plain": [
       "<Figure size 432x288 with 1 Axes>"
      ]
     },
     "metadata": {
      "needs_background": "light"
     },
     "output_type": "display_data"
    }
   ],
   "source": [
    "def plot_genre_rating(genre_rating):\n",
    "    sorted_rating = sorted(genre_rating.items(), key= lambda kv: kv[1])\n",
    "    xlist = [kv[1] for kv in sorted_rating]\n",
    "    ylist = [kv[0] for kv in sorted_rating]\n",
    "    ax = sns.barplot(x=xlist, y=ylist, orient='h', color='lightgreen')\n",
    "\n",
    "plot_genre_rating(movie_rating_by_genre(ratings, movies, genres))"
   ]
  },
  {
   "cell_type": "markdown",
   "metadata": {
    "colab_type": "text",
    "id": "Sk4LnBYN9I0w"
   },
   "source": [
    "We see that *Film-Noir* genre has the highest average movie rating (about 3.9) while *Fantasy* genre has the lowest (about 3.2). Overall the average ratings are fairly balanced across different genres."
   ]
  },
  {
   "cell_type": "markdown",
   "metadata": {
    "colab_type": "text",
    "id": "b9A0EG8u3SLP"
   },
   "source": [
    "### Question 2: Movie count over time\n",
    "\n",
    "Next, we will investigate how the number of movies released in each genre has evolved over the years. Complete the function `movie_count_by_genre` to return a nested dictionary having the following structure: \n",
    "```\n",
    "{\n",
    "    'Action': { 1922: 1, 1926: 2, ...},\n",
    "    'Adventure': { 1922: 3, ...},\n",
    "    ...\n",
    "}\n",
    "```\n",
    "  \n",
    "where the outer key is a genre, the inner key is a year and the value is the number of movies released for that genre in that year.\n",
    "\n",
    "**Notes**:\n",
    "1. The year can be retrieved from the last 4 characters in the release date. Movies which this extraction method does not work on can be ignored.\n",
    "1. The year values (inner keys) in the returned dictionary (1922 and 1926 in the example above) are integers, not strings.\n",
    "1. If a genre does not have any review in a certain year, that year should not be included in the inner dictionary."
   ]
  },
  {
   "cell_type": "code",
   "execution_count": 577,
   "metadata": {},
   "outputs": [],
   "source": [
    "def movie_count_by_genre(movies, genres):\n",
    "    \"\"\"\n",
    "    Count the number of movies in each movie genre.\n",
    "\n",
    "    args:\n",
    "        movies (pd.DataFrame) : Dataframe containing movie attributes\n",
    "        genres (List[str]) :  the list of movie genres\n",
    "\n",
    "    return:\n",
    "        Dict[str, Dict[int, int]]  : a nested mapping from movie genre to year to number of movies in that year\n",
    "    \"\"\"\n",
    "    \n",
    "    movies[\"year\"]=movies['release_date'].str[-4:]\n",
    "    movies.dropna(subset=['year'])\n",
    "    temp1=pd.melt(movies,id_vars = ['movie','year'], value_vars =genres, var_name = \"genre\", value_name = \"val\")\n",
    "    \n",
    "    temp2=temp1[temp1.val==1]\n",
    "   \n",
    "\n",
    "    out=temp2.groupby([\"genre\",\"year\"]).agg(movie_count = (\"movie\", \"count\"))\n",
    "    \n",
    "    out = out.rename_axis([\"genre\",\"year\"]).reset_index()\n",
    "    out.year=out.year.astype(int)\n",
    "    out['vals'] = out[['year', 'movie_count']].apply(tuple, axis=1)\n",
    "   \n",
    "    \n",
    "    \n",
    "    dict_out={}\n",
    "    for x in genres:\n",
    "        dict_out[x]=dict(list(out[out[\"genre\"]==x]['vals']))\n",
    "\n",
    "    return dict_out"
   ]
  },
  {
   "cell_type": "code",
   "execution_count": 578,
   "metadata": {
    "colab": {},
    "colab_type": "code",
    "id": "NCo_XpBQDiMg",
    "tags": [
     "excluded_from_script"
    ]
   },
   "outputs": [
    {
     "name": "stdout",
     "output_type": "stream",
     "text": [
      "All tests passed!\n"
     ]
    }
   ],
   "source": [
    "# local test\n",
    "def test_movie_count_by_genre():\n",
    "    genre_count = movie_count_by_genre(movies, genres)\n",
    "    \n",
    "    assert genre_count['Crime'][1997] == 30\n",
    "    assert genre_count['Action'][1998] == 12\n",
    "    assert genre_count['Drama'][1939] == 5\n",
    "    print(\"All tests passed!\")\n",
    "\n",
    "test_movie_count_by_genre()"
   ]
  },
  {
   "cell_type": "markdown",
   "metadata": {
    "colab_type": "text",
    "id": "R_oyI2hBa7T4"
   },
   "source": [
    "Now let's try to plot the rating counts of a few genres and see how they change over time."
   ]
  },
  {
   "cell_type": "code",
   "execution_count": 576,
   "metadata": {
    "colab": {},
    "colab_type": "code",
    "id": "U7H0TN4dr6dG",
    "tags": [
     "excluded_from_script"
    ]
   },
   "outputs": [
    {
     "data": {
      "text/plain": [
       "<AxesSubplot:xlabel='year', ylabel='movie_count'>"
      ]
     },
     "execution_count": 576,
     "metadata": {},
     "output_type": "execute_result"
    },
    {
     "data": {
      "image/png": "[encoded data removed]",
      "text/plain": [
       "<Figure size 432x288 with 1 Axes>"
      ]
     },
     "metadata": {
      "needs_background": "light"
     },
     "output_type": "display_data"
    }
   ],
   "source": [
    "def plot_movie_count(selected_genres):\n",
    "    genre_count = movie_count_by_genre(movies, genres)\n",
    "    records = [\n",
    "        (genre, year, movie_count)\n",
    "        for genre, year_count in genre_count.items()\n",
    "        for year, movie_count in year_count.items()\n",
    "    ]\n",
    "    movie_count_df = pd.DataFrame(records, columns=['genre', 'year', 'movie_count']).sort_values('year')\n",
    "    movie_count_df = movie_count_df[movie_count_df[\"genre\"].isin(selected_genres)]\n",
    "    return sns.lineplot(x=\"year\", y=\"movie_count\", hue='genre', data=movie_count_df)\n",
    "    \n",
    "plot_movie_count([\"Action\", \"Comedy\", \"Horror\", \"Drama\"])"
   ]
  },
  {
   "cell_type": "markdown",
   "metadata": {
    "colab_type": "text",
    "id": "_TmWDYLwZG7n"
   },
   "source": [
    "From the above graph, we see that, in terms of movie rating counts, the comedy and drama genre have become a lot more popular in the 1990s, compared to action or horror."
   ]
  },
  {
   "cell_type": "markdown",
   "metadata": {
    "colab_type": "text",
    "id": "u8vBAfqUDzlT"
   },
   "source": [
    "### Question 3: Movie ratings over time\n",
    "The quantity of movie ratings has certainly increased over time, but is the quality of movies improving as well? We can plot the distribution of ratings in recent years to find out.\n",
    "\n",
    "Complete the function `movie_rating_distribution` which returns a dataframe that contains the release year and rating from each user for each movie that **was released on or after** a particular year. The column names of this dataframe should be `release_year` and `rating`.\n",
    "\n",
    "**Notes**: \n",
    "1. Ignore movies with invalid year values.\n",
    "2. You need to return the release year and rating of movies. Since there might be multiple movies released in a year with the same rating, there can be duplicate entries in the dataframe.\n",
    "3. Multiple ratings of the same movie by the same user should be considered unique, i.e., you do not have to perform any kind of aggregation in this question.\n",
    "4. If the movies dataset has some movie IDs that are not present in the ratings dataset (i.e., movies without ratings), those movies should not be included in the returned dataframe.\n",
    "6. The `rating` column in the returned dataframe should have type integer."
   ]
  },
  {
   "cell_type": "code",
   "execution_count": 433,
   "metadata": {},
   "outputs": [],
   "source": [
    "def movie_rating_distribution(movies, ratings, starting_year = 1990):\n",
    "    \"\"\"\n",
    "    Record the release year and rating of every movie released on or after a starting year in the dataset.\n",
    "\n",
    "    args:\n",
    "        movies (pd.DataFrame)   : Dataframe containing movie attributes\n",
    "        ratings (pd.DataFrame)  : Dataframe containing user ratings\n",
    "\n",
    "    kwargs:\n",
    "        starting_year (int) : the earliest release year for a movie to be considered\n",
    "\n",
    "    return:\n",
    "        pd.DataFrame  : a DataFrame of the movie release years and ratings\n",
    "    \"\"\"\n",
    "    \n",
    "    movies[\"release_year\"]=movies['release_date'].str[-4:]\n",
    "    \n",
    "    movies.dropna(subset=['release_year'])\n",
    "    movies[\"release_year\"] = pd.to_numeric(movies[\"release_year\"])\n",
    "    movies=movies[[\"movie\",\"release_year\"]]\n",
    "    \n",
    "    temp1=movies[movies.release_year>=int(starting_year)]\n",
    "    valid_ids=set(temp1[\"movie\"].values)\n",
    "    ratings[\"item_id\"] = pd.to_numeric(ratings[\"item_id\"] )\n",
    "    valid_ratings=ratings[ratings[\"item_id\"].isin(valid_ids)]\n",
    "    unique_index=valid_ratings[[\"user_id\",\"item_id\"]]\n",
    "    unique_ratings=valid_ratings[~unique_index.duplicated()]\n",
    "\n",
    "    out_ratings=pd.merge(unique_ratings, movies, left_on='item_id',right_on=\"movie\")[[\"release_year\",\"rating\"]]\n",
    "    out_ratings.release_year=out_ratings.release_year.astype(int)\n",
    "    return out_ratings"
   ]
  },
  {
   "cell_type": "code",
   "execution_count": 434,
   "metadata": {
    "colab": {},
    "colab_type": "code",
    "id": "IVzPnLp8FP_N",
    "tags": [
     "excluded_from_script"
    ]
   },
   "outputs": [
    {
     "data": {
      "text/html": [
       "<div>\n",
       "<style scoped>\n",
       "    .dataframe tbody tr th:only-of-type {\n",
       "        vertical-align: middle;\n",
       "    }\n",
       "\n",
       "    .dataframe tbody tr th {\n",
       "        vertical-align: top;\n",
       "    }\n",
       "\n",
       "    .dataframe thead th {\n",
       "        text-align: right;\n",
       "    }\n",
       "</style>\n",
       "<table border=\"1\" class=\"dataframe\">\n",
       "  <thead>\n",
       "    <tr style=\"text-align: right;\">\n",
       "      <th></th>\n",
       "      <th>release_year</th>\n",
       "      <th>rating</th>\n",
       "    </tr>\n",
       "  </thead>\n",
       "  <tbody>\n",
       "    <tr>\n",
       "      <th>0</th>\n",
       "      <td>1997</td>\n",
       "      <td>3</td>\n",
       "    </tr>\n",
       "    <tr>\n",
       "      <th>1</th>\n",
       "      <td>1997</td>\n",
       "      <td>3</td>\n",
       "    </tr>\n",
       "    <tr>\n",
       "      <th>2</th>\n",
       "      <td>1997</td>\n",
       "      <td>5</td>\n",
       "    </tr>\n",
       "    <tr>\n",
       "      <th>3</th>\n",
       "      <td>1997</td>\n",
       "      <td>3</td>\n",
       "    </tr>\n",
       "    <tr>\n",
       "      <th>4</th>\n",
       "      <td>1997</td>\n",
       "      <td>5</td>\n",
       "    </tr>\n",
       "    <tr>\n",
       "      <th>...</th>\n",
       "      <td>...</td>\n",
       "      <td>...</td>\n",
       "    </tr>\n",
       "    <tr>\n",
       "      <th>70440</th>\n",
       "      <td>1996</td>\n",
       "      <td>3</td>\n",
       "    </tr>\n",
       "    <tr>\n",
       "      <th>70441</th>\n",
       "      <td>1996</td>\n",
       "      <td>3</td>\n",
       "    </tr>\n",
       "    <tr>\n",
       "      <th>70442</th>\n",
       "      <td>1996</td>\n",
       "      <td>3</td>\n",
       "    </tr>\n",
       "    <tr>\n",
       "      <th>70443</th>\n",
       "      <td>1996</td>\n",
       "      <td>3</td>\n",
       "    </tr>\n",
       "    <tr>\n",
       "      <th>70444</th>\n",
       "      <td>1996</td>\n",
       "      <td>3</td>\n",
       "    </tr>\n",
       "  </tbody>\n",
       "</table>\n",
       "<p>70445 rows × 2 columns</p>\n",
       "</div>"
      ],
      "text/plain": [
       "       release_year  rating\n",
       "0              1997       3\n",
       "1              1997       3\n",
       "2              1997       5\n",
       "3              1997       3\n",
       "4              1997       5\n",
       "...             ...     ...\n",
       "70440          1996       3\n",
       "70441          1996       3\n",
       "70442          1996       3\n",
       "70443          1996       3\n",
       "70444          1996       3\n",
       "\n",
       "[70445 rows x 2 columns]"
      ]
     },
     "metadata": {},
     "output_type": "display_data"
    },
    {
     "name": "stdout",
     "output_type": "stream",
     "text": [
      "All tests passed!\n"
     ]
    }
   ],
   "source": [
    "# local test\n",
    "def test_movie_rating_distribution():\n",
    "    ratings_dist = movie_rating_distribution(movies, ratings)\n",
    "    assert set(ratings_dist.columns) == set([\"release_year\", \"rating\"])\n",
    "    assert ratings_dist.shape == (70445, 2)\n",
    "    assert ratings_dist.release_year.shape == (70445,)\n",
    "    assert len(ratings_dist[ratings_dist[\"release_year\"] == 1995]) == 10499\n",
    "    print(\"All tests passed!\")\n",
    "\n",
    "test_movie_rating_distribution()"
   ]
  },
  {
   "cell_type": "code",
   "execution_count": 155,
   "metadata": {
    "colab": {},
    "colab_type": "code",
    "id": "1TlL8tjJGB8d",
    "tags": [
     "excluded_from_script"
    ]
   },
   "outputs": [
    {
     "data": {
      "text/plain": [
       "<seaborn.axisgrid.FacetGrid at 0x7fd3efae9e90>"
      ]
     },
     "execution_count": 155,
     "metadata": {},
     "output_type": "execute_result"
    },
    {
     "data": {
      "image/png": "[encoded data removed]",
      "text/plain": [
       "<Figure size 720x360 with 1 Axes>"
      ]
     },
     "metadata": {
      "needs_background": "light"
     },
     "output_type": "display_data"
    }
   ],
   "source": [
    "def plot_movie_rating_dist(ratings_dist):\n",
    "    return sns.catplot(x = \"release_year\", y = \"rating\", data = ratings_dist, kind = \"violin\", height = 5, aspect = 2)\n",
    "    \n",
    "plot_movie_rating_dist(movie_rating_distribution(movies,ratings))"
   ]
  },
  {
   "cell_type": "markdown",
   "metadata": {},
   "source": [
    "We see that most of the ratings concentrate between 3 and 4 in every year, although the median is 3 in some years (1995, 1996, 1998) and 4 in the rest. Furthermore, the ratings in 1998 seem to be most spread out."
   ]
  },
  {
   "cell_type": "markdown",
   "metadata": {
    "colab_type": "text",
    "id": "UDIJBfKPjoXV"
   },
   "source": [
    "### Question 4: Movie ratings by month\n",
    "\n",
    "Now let's look at a specific year and see which month in that year has the most ratings. Complete the function `movies_reviewed_by_month` which returns a dataframe that contains the months of a year and the movie rating counts by month. This dataframe should have two columns: `month` and `rating_count`, where `month` is an integer from 1 to 12. Months that do not have any rating count should be excluded.\n",
    "\n",
    "**Note**:\n",
    "* The `timestamp` column in `ratings` is in unix time format (i.e., the number of seconds since 1970). You should identify the appropriate Pandas function to convert it to the standard datetime format. Try to use vectorization for speedup."
   ]
  },
  {
   "cell_type": "code",
   "execution_count": 593,
   "metadata": {},
   "outputs": [],
   "source": [
    "def movies_reviewed_by_month(ratings, year):\n",
    "    \"\"\"\n",
    "    Count the number of ratings in each month of a given year.\n",
    "\n",
    "    args:\n",
    "        ratings (pd.DataFrame)  : Dataframe containing user ratings\n",
    "        year (int)  : the year in which ratings are considered\n",
    "\n",
    "    return:\n",
    "        pd.DataFrame  : a DataFrame of the months and movie rating count in each month\n",
    "    \"\"\"\n",
    " \n",
    "    ratings[\"time\"]= pd.to_datetime(ratings['timestamp'], unit='s')\n",
    "    ratings[\"month\"]=ratings.time.apply(lambda x: x.month)\n",
    "    ratings[\"year\"]=ratings.time.apply(lambda x: x.year)\n",
    "    ratings.dropna(subset=[\"month\"])\n",
    "    ratings=ratings[ratings.year==year]\n",
    "    out=ratings.groupby(\"month\").agg(rating_count=(\"user_id\",\"count\"))\n",
    "    out= out.rename_axis('month').reset_index()\n",
    "    \n",
    "    return out"
   ]
  },
  {
   "cell_type": "code",
   "execution_count": 594,
   "metadata": {
    "colab": {},
    "colab_type": "code",
    "id": "QT3PehuC81aC",
    "tags": [
     "excluded_from_script"
    ]
   },
   "outputs": [
    {
     "data": {
      "text/html": [
       "<div>\n",
       "<style scoped>\n",
       "    .dataframe tbody tr th:only-of-type {\n",
       "        vertical-align: middle;\n",
       "    }\n",
       "\n",
       "    .dataframe tbody tr th {\n",
       "        vertical-align: top;\n",
       "    }\n",
       "\n",
       "    .dataframe thead th {\n",
       "        text-align: right;\n",
       "    }\n",
       "</style>\n",
       "<table border=\"1\" class=\"dataframe\">\n",
       "  <thead>\n",
       "    <tr style=\"text-align: right;\">\n",
       "      <th></th>\n",
       "      <th>month</th>\n",
       "      <th>rating_count</th>\n",
       "    </tr>\n",
       "  </thead>\n",
       "  <tbody>\n",
       "    <tr>\n",
       "      <th>0</th>\n",
       "      <td>9</td>\n",
       "      <td>6704</td>\n",
       "    </tr>\n",
       "    <tr>\n",
       "      <th>1</th>\n",
       "      <td>10</td>\n",
       "      <td>10304</td>\n",
       "    </tr>\n",
       "    <tr>\n",
       "      <th>2</th>\n",
       "      <td>11</td>\n",
       "      <td>23980</td>\n",
       "    </tr>\n",
       "    <tr>\n",
       "      <th>3</th>\n",
       "      <td>12</td>\n",
       "      <td>11911</td>\n",
       "    </tr>\n",
       "  </tbody>\n",
       "</table>\n",
       "</div>"
      ],
      "text/plain": [
       "   month  rating_count\n",
       "0      9          6704\n",
       "1     10         10304\n",
       "2     11         23980\n",
       "3     12         11911"
      ]
     },
     "metadata": {},
     "output_type": "display_data"
    },
    {
     "name": "stdout",
     "output_type": "stream",
     "text": [
      "All tests passed!\n"
     ]
    }
   ],
   "source": [
    "# local test\n",
    "def test_movies_reviewed_by_month():\n",
    "    ratings_by_month = movies_reviewed_by_month(ratings, 1997)\n",
    "    assert list(ratings_by_month.loc[ratings_by_month['month']==9, 'rating_count'])[0] == 6704\n",
    "    print(\"All tests passed!\")\n",
    "\n",
    "test_movies_reviewed_by_month()"
   ]
  },
  {
   "cell_type": "markdown",
   "metadata": {
    "colab_type": "text",
    "id": "Hix0AgDDJNBB"
   },
   "source": [
    "Now let's visualize the results:"
   ]
  },
  {
   "cell_type": "code",
   "execution_count": 209,
   "metadata": {
    "colab": {},
    "colab_type": "code",
    "id": "z3lAsS2YMuuE",
    "tags": [
     "excluded_from_script"
    ]
   },
   "outputs": [
    {
     "data": {
      "text/plain": [
       "<AxesSubplot:xlabel='month'>"
      ]
     },
     "execution_count": 209,
     "metadata": {},
     "output_type": "execute_result"
    },
    {
     "data": {
      "image/png": "[encoded data removed]",
      "text/plain": [
       "<Figure size 432x288 with 1 Axes>"
      ]
     },
     "metadata": {
      "needs_background": "light"
     },
     "output_type": "display_data"
    }
   ],
   "source": [
    "movies_reviewed_by_month(ratings, 1997).plot.bar(x='month', y='rating_count', rot=0)"
   ]
  },
  {
   "cell_type": "markdown",
   "metadata": {},
   "source": [
    "It turns out that in 1997, November has the most ratings, almost twice as many as other months. What could be the reason for this?"
   ]
  },
  {
   "cell_type": "markdown",
   "metadata": {
    "colab_type": "text",
    "id": "XgfHJKXM5DxQ"
   },
   "source": [
    "### Question 5: Best and worst movies\n",
    "\n",
    "Let's now look at which movies have the highest or lowest ratings. For simplicity, if a movie is rated multiple times, we consider the average of these ratings as the *rating score* for that movie. To ensure that the rating scores are robust, in this question we only consider movies that have more than 50 ratings.\n",
    "\n",
    "Complete the function `best_worst_movies` which returns two lists -- one containing the movie ids of the movies with the highest average rating scores, and one with lowest average rating scores.\n",
    "\n",
    "**Notes**:\n",
    "1. The list for best movies should contain movies sorted in decreasing order of average rating\n",
    "2. The list for worst movies should contain movies sorted in increasing order of average rating\n",
    "3. Make sure you are using the threshold parameter correctly, as specified in the docstring."
   ]
  },
  {
   "cell_type": "code",
   "execution_count": 784,
   "metadata": {},
   "outputs": [],
   "source": [
    "def best_worst_movies(ratings, threshold = 50, size = 10):\n",
    "    \"\"\"\n",
    "    Get the top movies with highest average ratings and top movies with lowest average ratings\n",
    "\n",
    "    args:\n",
    "        ratings (pd.DataFrame)  : Dataframe containing user ratings\n",
    "\n",
    "    kwargs:\n",
    "        threshold (int) : movies that are considered should have more ratings than this threshold\n",
    "        size (int) : the number of movies with lowest / highest average ratings to get\n",
    "\n",
    "    return: Tuple (best_movie_ids, worst_movie_ids)\n",
    "            best_movie_ids (List[int])  : a list of ids for movies with the highest average ratings, sorted from highest to lowest average rating.\n",
    "            worst_movie_ids [List[int]] : a list of ids for movies with the lowest average ratings, sorted from lowest to highest average rating.\n",
    "    \"\"\"\n",
    "    temp1=ratings.groupby(\"item_id\").agg(counting=(\"user_id\",\"count\"),avg_ra=(\"rating\",\"mean\"))\n",
    "    \n",
    "    temp1=temp1[temp1.counting>threshold]\n",
    "    temp1 = temp1.rename_axis('movie_id').reset_index()\n",
    "    temp1=temp1.sort_values(by='avg_ra')\n",
    "    out_worst=list(temp1['movie_id'][:size].values)\n",
    "    out_best=list(temp1['movie_id'][-size:].values)\n",
    "    out_best.reverse()\n",
    "    return (out_best,out_worst)"
   ]
  },
  {
   "cell_type": "code",
   "execution_count": 785,
   "metadata": {
    "colab": {},
    "colab_type": "code",
    "id": "drMHppleAXiI",
    "tags": [
     "excluded_from_script"
    ]
   },
   "outputs": [
    {
     "name": "stdout",
     "output_type": "stream",
     "text": [
      "All tests passed!\n"
     ]
    }
   ],
   "source": [
    "# local test\n",
    "def test_best_worst_movies():\n",
    "    best_movie_ids, worst_movie_ids = best_worst_movies(ratings)\n",
    "    assert isinstance(best_movie_ids, list) and isinstance(worst_movie_ids, list)\n",
    "    assert len(best_movie_ids) == len(worst_movie_ids) == 10\n",
    "    assert best_movie_ids[0] == 408\n",
    "    assert worst_movie_ids[0] == 931\n",
    "    print(\"All tests passed!\")\n",
    "\n",
    "test_best_worst_movies()"
   ]
  },
  {
   "cell_type": "markdown",
   "metadata": {
    "colab_type": "text",
    "id": "5boSMkubJYHQ"
   },
   "source": [
    "Now let's visualize the rating distribution for the best movie and the worst movie:"
   ]
  },
  {
   "cell_type": "code",
   "execution_count": 783,
   "metadata": {
    "colab": {},
    "colab_type": "code",
    "id": "Cu2_zlkYZRK0",
    "tags": [
     "excluded_from_script"
    ]
   },
   "outputs": [
    {
     "name": "stdout",
     "output_type": "stream",
     "text": [
      "Best rated movie: Close Shave, A (1995)\n",
      "Worst rated movie: Island of Dr. Moreau, The (1996)\n"
     ]
    },
    {
     "data": {
      "text/plain": [
       "<AxesSubplot:xlabel='item_id', ylabel='rating'>"
      ]
     },
     "execution_count": 783,
     "metadata": {},
     "output_type": "execute_result"
    },
    {
     "data": {
      "image/png": "[encoded data removed]",
      "text/plain": [
       "<Figure size 432x288 with 1 Axes>"
      ]
     },
     "metadata": {
      "needs_background": "light"
     },
     "output_type": "display_data"
    }
   ],
   "source": [
    "def plot_best_worst_rating_distribution(movies, ratings, best_movie_ids, worst_movie_ids):\n",
    "    best_movie_id, worst_movie_id = best_movie_ids[0], worst_movie_ids[0]\n",
    "    best_worst_ratings = ratings[ratings.item_id.isin([best_movie_id, worst_movie_id])]\n",
    "    print(f'Best rated movie: {movies.loc[best_movie_id].movie_title}')\n",
    "    print(f'Worst rated movie: {movies.loc[worst_movie_id].movie_title}')\n",
    "    return sns.violinplot(x=\"item_id\", y=\"rating\", data=best_worst_ratings)\n",
    "    \n",
    "plot_best_worst_rating_distribution(movies, ratings, *best_worst_movies(ratings))"
   ]
  },
  {
   "cell_type": "markdown",
   "metadata": {
    "colab_type": "text",
    "id": "JWTXNVdZKYZI"
   },
   "source": [
    "We see that there is a stark difference between the ratings for best movies (which are clustered around the top scores) and the ratings for worst movies (which are clustered around the bottom scores)."
   ]
  },
  {
   "cell_type": "markdown",
   "metadata": {
    "colab_type": "text",
    "id": "JKHq0CoFhHj9"
   },
   "source": [
    "## Part B: Movie Recommendation Using Collaborative Filtering\n",
    "---\n",
    "\n",
    "\n",
    "In the primer, we studied how an unsupervised learning technique like  **collaborative filtering**  can be used to recommend new items to users based on their rating of other items as well as the item ratings by similar users.\n",
    "\n",
    "Product recommendation is a major business avenue for many companies like Amazon, Netflix, IMDB, etc. Collaborative Filtering is the driving force behind this application. In this project, we will apply this algorithm to recommend new movies to users.\n",
    "\n",
    "Most collaborative filtering algorithms fit into one of three categories:\n",
    "\n",
    "*   User-user similarity approach\n",
    "*   Item-item similarity approach\n",
    "*   Matrix factorization approach\n",
    "\n",
    "We will implement each of these techniques in this project. As a first step, in order to implement collaborative filtering, we first represent the data in a format suitable for the algorithm to work with, i.e., a format that enables easy manipulation and efficient computation within the algorithm framework.\n",
    "\n",
    "If you get runtime error or get confused about the matrix dimensions, refer to the worked examples in the recommender system primer. Testing your code on these small examples is a good way to debug."
   ]
  },
  {
   "cell_type": "markdown",
   "metadata": {
    "colab_type": "text",
    "id": "m2yuM8gat_K9"
   },
   "source": [
    "### Question 6: Data representation\n",
    "\n",
    "We can represent the user ratings in a matrix $X \\in \\mathbb{R}^{ m \\times n}$ for a dataset consisting of **m users** and **n movies** such that:\n",
    "* $X_{ij}$ is the rating given by the `i`-th user to the `j`-th movie (note that the user/movie ids **may not** be consecutive integer values, so the `k`-th user/movie simply refers to the one with the `k`-th smallest id).\n",
    "* If a user has not rated a movie, then the corresponding entry in the matrix should be 0.\n",
    "* If a user has rated a movie several times, then we take the **maximum rating value**.\n",
    "\n",
    "Complete the function `matrix_data` which takes in the `ratings` DataFrame and returns:\n",
    "1. The user-movie rating matrix `X`\n",
    "2. The mean user rating matrix `user_means`, which contains the average rating of every user.\n",
    "3. The mean movie rating matrix `movie_means`, which contains the average rating for every movie.\n",
    "\n",
    "As an example, the user-movie rating matrix `X` may look like `X = [[0,3], [0,1], [2,3]]` (where the 0 entries indicate that user 1 and 2 have not rated movie 1). The corresponding `user_means` is then `[3, 1, 2.5]` and the corresponding `movie_means` is `[2, 7/3]`.\n",
    "\n",
    "**Notes**:\n",
    "* The rating matrix `X` should have integer data type, not float.\n",
    "* The mean user and movie ratings should be computed only over the observed (i.e., non-zero) entries.\n",
    "* Refer to the Pandas primer to see how you may convert a dataframe from wide to long format or vice versa.\n"
   ]
  },
  {
   "cell_type": "code",
   "execution_count": 315,
   "metadata": {},
   "outputs": [],
   "source": [
    "def matrix_data(ratings):\n",
    "    \"\"\"\n",
    "    Represent the user-movie ratings data in a matrix format\n",
    "\n",
    "    args:\n",
    "        ratings (pd.DataFrame)  : raw ratings data represented in a pandas DataFrame\n",
    "\n",
    "    return :\n",
    "        Tuple[X, user_means, movie_means]\n",
    "            X (np.array[num_users, num_movies]) : the actual ratings matrix\n",
    "            user_means (np.array[num_users, ])  : mean user rating array over the observed ratings\n",
    "            movie_means (np.array[num_movies, ])  : mean movie rating array over the obsevered ratings\n",
    "    \"\"\"\n",
    "\n",
    "    X=np.array(pd.pivot_table(ratings, values='rating', index=['user_id'],columns=['item_id'], aggfunc=np.max))\n",
    "    user_means=np.nanmean(X,axis=1)\n",
    "    movies_means=np.nanmean(X,axis=0)\n",
    "    X=np.nan_to_num(X)\n",
    "    X= X.astype(int)\n",
    "    return (X,user_means,movies_means)\n",
    "    \n",
    "   "
   ]
  },
  {
   "cell_type": "code",
   "execution_count": 317,
   "metadata": {
    "colab": {},
    "colab_type": "code",
    "id": "thtIrOVizOKB",
    "tags": [
     "excluded_from_script"
    ]
   },
   "outputs": [
    {
     "name": "stdout",
     "output_type": "stream",
     "text": [
      "All tests passed!\n"
     ]
    }
   ],
   "source": [
    "# local test\n",
    "def test_matrix_data():\n",
    "    X, user_means, movie_means = matrix_data(ratings)\n",
    "    assert X.shape == (943, 1682)\n",
    "    assert X.dtype == np.int64\n",
    "    assert user_means.shape == (943,)\n",
    "    assert movie_means.shape == (1682,)\n",
    "    assert np.array_equal(X[5,:10], np.array([4, 0, 0, 0, 0, 0, 2, 4, 4, 0]))\n",
    "    assert np.allclose(movie_means[0], 3.8783185840707963)\n",
    "    assert np.allclose(user_means[0], 3.610294117647059)\n",
    "    print(\"All tests passed!\")\n",
    "\n",
    "test_matrix_data()"
   ]
  },
  {
   "cell_type": "markdown",
   "metadata": {
    "colab_type": "text",
    "id": "j9Icr8_ikPAw"
   },
   "source": [
    "Our next step is to get the similarity weights. Let's go ahead and implement the cosine similarity function:"
   ]
  },
  {
   "cell_type": "markdown",
   "metadata": {
    "colab_type": "text",
    "id": "d703s-dLUCK0"
   },
   "source": [
    "### Question 7: Cosine similarity\n",
    "\n",
    "The Cosine similarity between *user i* and *user k* is the weight\n",
    "\n",
    "$$W_{ik}=\\frac{\\sum_{j = 1}^{n}X_{ij} X_{kj}}{\\sqrt{\\sum_{j = 1}^{n}{X_{ij}}^2}\\sqrt{\\sum_{j = 1}^{n}{X_{kj}}^2}}.$$\n",
    "\n",
    "Complete the `cosine_similarity` function which takes in ratings matrix `X` and returns the user-user similarity matrix `W` using cosine similarity.\n",
    "\n",
    "**Note**:\n",
    "* Avoid using for loops. `np.outer` may be helpful here.\n",
    "* Refer to the [Recommender System primer](https://nbviewer.jupyter.org/url/clouddatascience.blob.core.windows.net/primers/recommender-system-primer/recommender_system_primer.ipynb) for an example of this computation."
   ]
  },
  {
   "cell_type": "code",
   "execution_count": 350,
   "metadata": {},
   "outputs": [],
   "source": [
    "def cosine_similarity(X):\n",
    "    \"\"\"\n",
    "        Compute the user-user cosine-similarity matrix.\n",
    "\n",
    "    args: \n",
    "        X (np.array[num_users, num_movies]) : the user-movie rating matrix\n",
    "\n",
    "    return:\n",
    "        np.array[num_users, num_users]  : the cosine-similarity matrix\n",
    "    \"\"\"\n",
    "    X_squared=np.square(X)\n",
    "    X=np.dot(X,X.T)\n",
    "\n",
    "    sqr_array=np.sqrt(np.sum(X_squared,axis=1))\n",
    "    \n",
    "    \n",
    "    out=X/np.outer(sqr_array,sqr_array)\n",
    "    return out"
   ]
  },
  {
   "cell_type": "code",
   "execution_count": 351,
   "metadata": {
    "colab": {},
    "colab_type": "code",
    "id": "VgN_-sP1eDVf",
    "tags": [
     "excluded_from_script"
    ]
   },
   "outputs": [
    {
     "name": "stdout",
     "output_type": "stream",
     "text": [
      "All tests passed!\n"
     ]
    }
   ],
   "source": [
    "# local test\n",
    "def test_cosine_similarity():\n",
    "    X = np.array([[0, 3], [0, 1], [2, 3]])\n",
    "    W_user_cosine = cosine_similarity(X)\n",
    "    assert W_user_cosine.shape == (3, 3)\n",
    "    assert np.allclose(W_user_cosine[0, 2], 0.8320502943378437)\n",
    "\n",
    "    X = matrix_data(ratings)[0]\n",
    "    W_user_cosine = cosine_similarity(X)\n",
    "    assert W_user_cosine.shape == (943, 943)\n",
    "    assert np.allclose(W_user_cosine[20, 37], 0.16907916618206115)\n",
    "    assert np.allclose(W_user_cosine[100, 101], 0.1537501042084208)\n",
    "    print(\"All tests passed!\")\n",
    "\n",
    "test_cosine_similarity()"
   ]
  },
  {
   "cell_type": "markdown",
   "metadata": {
    "colab_type": "text",
    "id": "qo0KWVJZUS9t"
   },
   "source": [
    "### Question 8a: Predict user ratings based on user-user similarity\n",
    "We are now ready to make predictions about the missing ratings:\n",
    "\n",
    "$$\\hat X_{ij} = \\bar x_i + \\frac{  \\sum_{k=1}^m \\mathbb{1}(X_{kj} \\ne 0) \\cdot w_{ik}(X_{kj} - \\bar x_k)}{ \\epsilon + \\sum_{k=1}^m \\mathbb{1}(X_{kj} \\ne 0) \\cdot |w_{ik}|}$$\n",
    "\n",
    "Note that we add a smoothing constant $\\epsilon$ in the denominator to cover the case where no user has previously rated the movie $j$. Complete the `predict_user_user` function which takes as input the rating matrix `X`, user-user similarity matrix `W` and `user_means` array; it then returns the rating prediction matrix $\\hat{X}$.\n",
    "\n",
    "**Notes**:\n",
    "* To handle conditional sum, we can multiply our input matrix with some binary indicator matrix. Which binary matrix is suitable here?\n",
    "* Recall that you can add a vector to every column of a matrix by broadcasting that vector to 2D."
   ]
  },
  {
   "cell_type": "code",
   "execution_count": 385,
   "metadata": {},
   "outputs": [],
   "source": [
    "def predict_user_user(X, W, user_means, eps=1e-12):\n",
    "    \"\"\"\n",
    "    Using the user-user similarity matrix, return the predicted ratings matrix\n",
    "\n",
    "    args: \n",
    "        X (np.array[num_users, num_movies]) : the actual ratings matrix, where missing entries are 0\n",
    "        W (np.array[num_users, num_users])  : user-user similarity weight matrix\n",
    "        user_means (np.array[num_users, ])  : mean-user-rating array\n",
    "        user_id (int)  : the id of the user whose missing ratings are predicted (from 0 to num_user)\n",
    "        eps (float) : smoothing constant to avoid division by zero\n",
    "\n",
    "    return:\n",
    "        np.array[num_users,  num_movies] -- the predicted ratings matrix\n",
    "    \"\"\"\n",
    "    mask=(X!=0).astype(int)\n",
    "    user_means=user_means[:,None]\n",
    "    trans_X=(X-user_means)*mask\n",
    "    up=np.dot(W,trans_X)\n",
    "    down=np.dot(np.abs(W),mask)\n",
    "    out=up/(down+eps)+user_means\n",
    "    return out"
   ]
  },
  {
   "cell_type": "code",
   "execution_count": 386,
   "metadata": {
    "colab": {},
    "colab_type": "code",
    "id": "VC1QW_LV3PxC",
    "tags": [
     "excluded_from_script"
    ]
   },
   "outputs": [
    {
     "name": "stdout",
     "output_type": "stream",
     "text": [
      "All tests passed!\n"
     ]
    }
   ],
   "source": [
    "def test_predict_user_user():\n",
    "    X = np.array([[0, 3], [0, 1], [2, 3]])\n",
    "    user_means = np.array([3, 1, 2.5])\n",
    "    W_user_cosine = cosine_similarity(X)\n",
    "    X_predicted = predict_user_user(X, W_user_cosine, user_means)\n",
    "    assert X_predicted.shape == X.shape\n",
    "    assert np.allclose(X_predicted, [[2.5, 3.14689893], [0.5, 1.14689893], [2, 2.6876806]])\n",
    "    print(\"All tests passed!\")\n",
    "\n",
    "test_predict_user_user()"
   ]
  },
  {
   "cell_type": "markdown",
   "metadata": {
    "colab_type": "text",
    "id": "-6IYs_NYJsea"
   },
   "source": [
    "### Question 8b: Evaluate the prediction\n",
    "To see how good our predictions $\\hat X_{ij}$'s are, we can compare them with the observed ratings. Complete the function `mean_rating_diff` that computes the difference value\n",
    "\n",
    "$$\\frac{\\sum_{i=1}^m \\sum_{j=1}^n \\mathbb{1}(X_{ij} \\ne 0) \\cdot (X_{ij} - \\hat X_{ij})^2}{\\sum_{i=1}^m \\sum_{j=1}^n \\mathbb{1}(X_{ij} \\ne 0)},$$\n",
    "\n",
    "where the denominator is the number of non-zero entries in $X$.\n",
    "\n",
    "Note:\n",
    "\n",
    "* Make sure your output is a NumPy float (with data type np.float64) instead of a regular Python float, to prevent errors."
   ]
  },
  {
   "cell_type": "code",
   "execution_count": 391,
   "metadata": {},
   "outputs": [],
   "source": [
    "def mean_rating_diff(X_true, X_pred):\n",
    "    \"\"\"\n",
    "    Return the mean squared difference between the predicted and the actual ratings matrix.\n",
    "    \n",
    "    args: \n",
    "        X_true (np.array[num_users, num_movies]) : the actual ratings matrix, where missing entries are 0\n",
    "        X_pred (np.array[num_users, num_movies]) : the predicted ratings matrix\n",
    "\n",
    "    return\n",
    "        np.float64 : mean squared difference between the predicted and the actual ratings matrix\n",
    "    \"\"\"\n",
    "    mask=(X_true!=0).astype(int)\n",
    "    up=np.sum(np.square(X_true-X_pred)*mask)\n",
    "    down=np.sum(mask)\n",
    "    return up/down"
   ]
  },
  {
   "cell_type": "code",
   "execution_count": 392,
   "metadata": {
    "colab": {},
    "colab_type": "code",
    "id": "_zEQLcjJgRin",
    "tags": [
     "excluded_from_script"
    ]
   },
   "outputs": [
    {
     "name": "stdout",
     "output_type": "stream",
     "text": [
      "All tests passed!\n"
     ]
    }
   ],
   "source": [
    "# local test\n",
    "def test_mean_rating_diff():\n",
    "    X = np.array([[0, 3], [0, 1], [2, 3]])\n",
    "    user_means = np.array([3, 1, 2.5])\n",
    "    W_user_cosine = cosine_similarity(X)\n",
    "    X_pred = predict_user_user(X, W_user_cosine, user_means)\n",
    "    diff = mean_rating_diff(X, X_pred)\n",
    "    assert isinstance(diff, np.float64), type(diff)\n",
    "    assert np.allclose(diff, 0.035175498983549575)\n",
    "\n",
    "    X, user_means, _ = matrix_data(ratings)\n",
    "    W_user_cosine = cosine_similarity(X)\n",
    "    X_pred = predict_user_user(X, W_user_cosine, user_means)\n",
    "    diff = mean_rating_diff(X, X_pred)\n",
    "    assert isinstance(diff, np.float64)\n",
    "    assert np.allclose(diff, 0.7992514466097069)\n",
    "    \n",
    "    print(\"All tests passed!\")\n",
    "\n",
    "test_mean_rating_diff()"
   ]
  },
  {
   "cell_type": "markdown",
   "metadata": {
    "colab_type": "text",
    "id": "JVo_nSyNhadN"
   },
   "source": [
    "### Question 9: Predict user ratings based on item-item similarity\n",
    "The math for item-item collaborative filtering approaches is essentially identical to the user-user case, just with the matrices transposed. To predict the likely rating for user $i$ and item $j$, we form a weighted combination of the other item ratings that user $i$ has rated, weighted by the similarity between the two items $i$ and $j$:\n",
    "$$\\hat X_{ij} = \\bar x_j + \\frac{ \\sum_{k=1}^n \\mathbb{1}(X_{ik} \\ne 0) \\cdot w_{jk}(X_{ik} - \\bar x_k)}{ \\epsilon + \\sum_{k=1}^n \\mathbb{1}(X_{ik} \\ne 0) \\cdot |w_{jk}|},$$\n",
    "\n",
    "where $k$ iterates over all the items. One nice feature of this approach is that we can reuse the functions in the user-user approach as before, in addition to transposing the relevant matrices. \n",
    "\n",
    "Complete the function `predict_item_item` which takes as input the rating matrix `X`, item-item similarity matrix `W` and `item_means` array. It then returns the ratings prediction matrix $\\hat{X}$."
   ]
  },
  {
   "cell_type": "code",
   "execution_count": 397,
   "metadata": {},
   "outputs": [],
   "source": [
    "def predict_item_item(X, W, item_means, eps=1e-12):\n",
    "    \"\"\"\n",
    "    Using the item-item similarity matrix, return the predicted ratings matrix.\n",
    "    \n",
    "    args: \n",
    "        X (np.array[num_users, num_movies]) : the actual ratings matrix\n",
    "        W (np.array[num_movies, num_movies]) : movie-movie similarity weight matrix\n",
    "        item_means (np.array[num_movies, ]) : mean-movie-rating array\n",
    "        eps (float) : smoothing constant to avoid division by zero\n",
    "\n",
    "    return:\n",
    "        np.array[num_users, num_movies] : the predicted ratings matrix\n",
    "    \"\"\"\n",
    "    mask=(X!=0).astype(int)\n",
    "    trans_X=(X-item_means)*mask\n",
    "    up=np.dot(trans_X,W)\n",
    "    down=np.dot(mask,np.abs(W))\n",
    "    out=up/(down+eps)+item_means\n",
    "    return out"
   ]
  },
  {
   "cell_type": "code",
   "execution_count": 398,
   "metadata": {
    "colab": {},
    "colab_type": "code",
    "id": "J5_nF85DnUrG",
    "tags": [
     "excluded_from_script"
    ]
   },
   "outputs": [
    {
     "name": "stdout",
     "output_type": "stream",
     "text": [
      "All tests passed!\n"
     ]
    }
   ],
   "source": [
    "# local test\n",
    "def test_predict_item_item():\n",
    "    X = np.array([[0, 3], [0, 1], [2, 3]])\n",
    "    item_means = np.array([2, 7/3])\n",
    "    W_item_cosine = cosine_similarity(X.T)\n",
    "    X_predicted = predict_item_item(X, W_item_cosine, item_means)\n",
    "    assert X_predicted.shape == X.shape\n",
    "    assert np.allclose(X_predicted, [[2.66666667, 3], [0.66666667, 1], [2.27177979, 2.72822021]])\n",
    "    print(\"All tests passed!\")\n",
    "\n",
    "test_predict_item_item()"
   ]
  },
  {
   "cell_type": "markdown",
   "metadata": {
    "colab_type": "text",
    "id": "TVQVH3rGviW5"
   },
   "source": [
    "## Sparse Representation:\n",
    "Until now, we have been working with a ratings matrix $X$ with shape $943\\times1682$. In practical recommender systems, the data size is usually much larger where our *dense matrix* approach will overburden the system both in computation and storage.\n",
    "\n",
    "Therefore, we have to identify a more efficient data representation to tackle this problem. One solution is to use **sparse matrices**. We notice that most entries in the ratings matrix are 0 because every user only rates a very small subset of all movies. We can leverage this observation to only store the non-zero entries of the matrix in a form known as \"sparse\" form, which is supported by the `scipy.sparse` library.\n"
   ]
  },
  {
   "cell_type": "markdown",
   "metadata": {
    "colab_type": "text",
    "id": "8Gk9rrOVzvqM"
   },
   "source": [
    "### Question 10: Running Matrix Factorization\n",
    "\n",
    "We start by implementing the alternating least square (ALS) algorithm for matrix factorization:\n",
    "1. Initialize $U \\in \\mathbb{R}^{m \\times k}$ and $V \\in \\mathbb{R}^{k \\times n}$ with values distributed normally. Here $m$ is the number of users, $n$ is the number of movies, and $k$ is the input number of features.\n",
    "2. Repeat `n_iters` times:\n",
    "    * Update the columns of $V$:\n",
    "    $$v_{j} := \\left(\\lambda I + \\sum_{X_{ij} \\ne 0} u_i u_i^T \\right)^{-1} \\left( \\sum_{X_{ij} \\ne 0} u_i X_{ij} \\right), \\quad j = 1, \\ldots, n$$\n",
    "    * Update the rows of $U$:\n",
    "    $$u_{i} := \\left(\\lambda I + \\sum_{X_{ij} \\ne 0} v_j v_j^T \\right)^{-1} \\left( \\sum_{X_{ij} \\ne 0} v_j^T X_{ij} \\right), \\quad i = 1, \\ldots, m$$\n",
    "\n",
    "**Notes**:\n",
    "* You should initialize $U$ and $V$ with `np.random.normal` where `loc = 0` and `scale = 0.1` ($U$ is initialized before $V$).\n",
    "* The notation $\\sum_{X_{ij} \\ne 0} u_i u_i^T$ is shorthand for $\\sum_{i=1}^m \\mathbb{1}(X_{ij} \\ne 0) \\times u_i u_i^T$. Recall from the primer that to implement this conditional sum, you can use either a binary matrix or NumPy indexing.\n",
    "* To avoid singularity issues with inverting matrices, when computing $A^{-1}B$ you should use `la.solve(A + lam * I, B)`, where `I` is the identity matrix with the same shape as `A` and `lam` is the smoothing parameter.\n",
    "* For simplicity, you **are allowed to** update each row $v_j$ and each column $u_i$ individually, i.e., you don't need to derive a matrix formula that yields the entire new $U$ or $V$ at once (though you should still use matrix operations to compute the $u_i$'s and $v_j$'s). To be consistent with the autograder, make sure to **update $v_j$ before $u_i$** in each operation.\n",
    "* This is the most difficult question. Take your time to think through it. Use examples with small numbers to debug your code (see the [Recommender System primer](https://nbviewer.jupyter.org/url/clouddatascience.blob.core.windows.net/primers/recommender-system-primer/recommender_system_primer.ipynb)). Make sure that every function call returns what you expect it to; for example, getting a row or column from a sparse matrix will always return a **2D matrix instead of 1D vector**, so make sure to apply the appropriate conversion (see the sparse matrix section in the [Numpy primer](https://nbviewer.jupyter.org/url/clouddatascience.blob.core.windows.net/primers/numpy-primer/numpy_primer.ipynb)).\n",
    "* In the sum $\\sum_{X_{ij} \\ne 0} u_i X_{ij}$, the $u_i$’s should be treated as column vectors, so the sum would yield a $k×1$ vector. See the worked example in the recommender system primer for more details."
   ]
  },
  {
   "cell_type": "code",
   "execution_count": 779,
   "metadata": {},
   "outputs": [],
   "source": [
    "def outer(x):\n",
    "   \n",
    "    return np.outer(x,x)\n",
    "def low_rank_matrix_factorization(X_sparse, k, niters=5, lam=10, seed = 0):\n",
    "    \n",
    "    # do not modify this line\n",
    "    np.random.seed(seed)\n",
    "    \n",
    "    \n",
    "    # your implementation here\n",
    "  \n",
    "    \n",
    "\n",
    "    (m,n)=X_sparse.shape\n",
    "    X_t=X_sparse.T\n",
    "    I=np.identity(k)*lam\n",
    "    U=np.random.normal(0,0.1,(m,k))\n",
    "    V=np.random.normal(0,0.1,(k,n))\n",
    "    #U=np.array([[0.1,0.5],[0.2,0.6],[0.3,0.7],[0.4,0.8]])\n",
    "    #V=np.array([[0.15,0.25,0.35],[0.45,0.55,0.65]])\n",
    "    for i in range(niters):\n",
    "        \n",
    "        for col in range(n):\n",
    "            (a,_)=X_sparse.getcol(col).nonzero()\n",
    "\n",
    "            if len(a)==0:\n",
    "               \n",
    "                out=la.solve(I, np.array(k*[0]))\n",
    "            else:\n",
    "                tempU=np.apply_along_axis(outer, 1,U[a,:])\n",
    "                A=np.sum(tempU,axis=0)\n",
    "                B=np.sum(np.multiply(U,X_sparse.getcol(col).toarray()),axis=0)\n",
    "                out=la.solve(A+I, B)\n",
    "        \n",
    "            V[:,col]=out\n",
    "        V_t=V.T\n",
    "       \n",
    "        for row in range(m):\n",
    "            \n",
    "            \n",
    "            \n",
    "            \n",
    "            (a,_)=X_t.getcol(row).nonzero()\n",
    "            \n",
    "            \n",
    "            if len(a)==0:\n",
    "            \n",
    "                out=la.solve(I, np.array(k*[0]))\n",
    "            else:\n",
    "                tempV=np.apply_along_axis(outer, 1,V_t[a,:])\n",
    "                A=np.sum(tempV,axis=0)\n",
    "                B=np.sum(np.multiply(V_t,X_t.getcol(row).toarray()),axis=0)\n",
    "                out=la.solve(A+I, B)\n",
    "                \n",
    "            \n",
    "            U[row]=out\n",
    "    #print(U)\n",
    "    #print(V)\n",
    "    return ((U,V))\n",
    "       \n",
    "        \n",
    "\n",
    "\n"
   ]
  },
  {
   "cell_type": "code",
   "execution_count": 780,
   "metadata": {
    "colab": {},
    "colab_type": "code",
    "id": "rEANjU-00fHe",
    "tags": [
     "excluded_from_script"
    ]
   },
   "outputs": [
    {
     "name": "stdout",
     "output_type": "stream",
     "text": [
      "All tests passed!\n"
     ]
    }
   ],
   "source": [
    "# local test\n",
    "\n",
    "def test_low_rank_matrix_factorization():\n",
    "    X_check = sp.coo_matrix([[5., 0., 0.], [1., 1., 0.]])\n",
    "    U_check, V_check = low_rank_matrix_factorization(X_check, 3)\n",
    "    assert np.allclose([\n",
    "        [2.52975137e-04, 8.88862671e-05, 8.88927380e-05],\n",
    "        [5.26156164e-05, 1.84872240e-05, 1.84885459e-05],\n",
    "    ], U_check), U_check\n",
    "    assert np.allclose([\n",
    "        [5.05950291e-04, 1.77772540e-04, 1.77785482e-04],\n",
    "        [2.02058899e-05, 7.09970620e-06, 7.09998333e-06],\n",
    "        [0, 0, 0]\n",
    "    ], V_check.T), V_check.T\n",
    "    print(\"All tests passed!\")\n",
    "\n",
    "test_low_rank_matrix_factorization()"
   ]
  },
  {
   "cell_type": "markdown",
   "metadata": {
    "colab_type": "text",
    "id": "jmbRs1Jm0hlw"
   },
   "source": [
    "### Question 11: Make recommendations\n",
    "\n",
    "With $U$ and $V$, we can now compute the predicted ratings $\\hat X = UV$. For each user $u_i$, let's recommend the movie with the highest predicted rating that the user has not rated before:\n",
    "\n",
    "$$r_i = 1 + \\underset{j}{\\operatorname{argmax}} \\left(\\mathbb{1}(X_{ij} = 0) \\times \\hat X_{ij} \\right).$$\n",
    "\n",
    "Implement the function `recommend` that returns a list of recommended movie ids, one for each user.\n",
    "\n",
    "**Note**:\n",
    "* The actual movie ids are numbered starting at 1 and not 0 in the original `ratings` dataframe. In other words, if you recommend a movie at column index $j$ in $X$, its movie id is $j+1$. This is why there is a 1 added to the argmax above."
   ]
  },
  {
   "cell_type": "code",
   "execution_count": 750,
   "metadata": {},
   "outputs": [],
   "source": [
    "def recommend_mf(X_sparse, U, V):\n",
    "    \"\"\"\n",
    "    Recommend a new movie for every user.\n",
    "\n",
    "    args:\n",
    "        X_sparse (sp.coo_matrix[num_users, num_movies]) : the ratings matrix\n",
    "        U (np.array[num_users, num_features]) : a matrix of features for each user\n",
    "        V (np.array[num_features, num_movies]) : a matrix of features for each movie\n",
    "\n",
    "    return:\n",
    "        List[int] -- a list of ids of recommended movie, one for each user\n",
    "    \"\"\"\n",
    "    X=X_sparse.toarray()\n",
    "    X_pred=np.dot(U,V)\n",
    "    mask=(X==0).astype(int)\n",
    "    out=1+np.argmax(mask*X_pred,axis=1)\n",
    "    #print(list(out))\n",
    "    return list(out)"
   ]
  },
  {
   "cell_type": "code",
   "execution_count": 436,
   "metadata": {
    "colab": {
     "base_uri": "https://localhost:8080/",
     "height": 34
    },
    "colab_type": "code",
    "id": "GtxxuJpmD2qZ",
    "outputId": "9cff8fd9-17c3-4813-aee6-44e7155bcbdc",
    "tags": [
     "excluded_from_script"
    ]
   },
   "outputs": [
    {
     "name": "stdout",
     "output_type": "stream",
     "text": [
      "All tests passed!\n"
     ]
    }
   ],
   "source": [
    "# local test\n",
    "def test_recommend_mf():\n",
    "    U = np.array([[1., 1., 0., 0.], [0., 1., 0., 1.]])\n",
    "    V = np.array([[.5, 0., 0., .5], [0., .5, .5, 0.], [.5, -1., .5, 3.]]).T\n",
    "    X = sp.coo_matrix([[5., 0., 0.], [1., 1., 0.]])\n",
    "    recommendation = recommend_mf(X, U, V)\n",
    "    assert recommendation == [2, 3]\n",
    "    print(\"All tests passed!\")\n",
    "\n",
    "test_recommend_mf()"
   ]
  },
  {
   "cell_type": "markdown",
   "metadata": {},
   "source": [
    "Now let's bring everything together: we will compute the predicted ratings matrix using the three approaches implemented above, evaluate their mean squared differences to the observed ratings, and see how the recommendations differ across these approaches. You have implemented all the pieces, so there is no more work on your part! Simply run the code below to see the results. What do you observe about the mean squared rating errors of the three approaches? What about the most frequently recommended movies in each approach?"
   ]
  },
  {
   "cell_type": "code",
   "execution_count": null,
   "metadata": {
    "tags": [
     "excluded_from_script"
    ]
   },
   "outputs": [],
   "source": [
    "# this cell has been tagged with excluded_from_script\n",
    "# it will not be run by the autograder\n",
    "from collections import Counter\n",
    "\n",
    "def recommend_user_user_item_item(X, X_pred, size = 10):\n",
    "    X_hat_remove_observed = np.where(X != 0, -np.inf, X_pred)\n",
    "    return (X_hat_remove_observed.argmax(axis = 1) + 1).tolist()\n",
    "\n",
    "def most_recommended_movies(recommended_movie_ids, size = 10):\n",
    "    counts = Counter(recommended_movie_ids)\n",
    "    return [(movies.loc[m_id].movie_title, count) for m_id, count in counts.most_common(size)]\n",
    "\n",
    "def compare_cf_approaches():\n",
    "    X, user_means, item_means = matrix_data(ratings)\n",
    "    \n",
    "    # user-user approach\n",
    "    W_user_cosine = cosine_similarity(X)\n",
    "    X_pred_user_user = predict_user_user(X, W_user_cosine, user_means)\n",
    "    print(\"The mean squared error of the predicted ratings in the user-user approach is\", mean_rating_diff(X, X_pred_user_user))\n",
    "    print(\"The top 10 most frequently recommended movies in the user-user approach is\")\n",
    "    print(most_recommended_movies(recommend_user_user_item_item(X, X_pred_user_user)))\n",
    "    \n",
    "    # item-item approach\n",
    "    W_item_cosine = cosine_similarity(X.T)\n",
    "    X_pred_item_item = predict_item_item(X, W_item_cosine, item_means)\n",
    "    print(\"The mean squared error of the predicted ratings in the item-item approach is\", mean_rating_diff(X, X_pred_item_item))\n",
    "    print(\"The top 10 most frequently recommended movies in the user-user approach is\")\n",
    "    print(most_recommended_movies(recommend_user_user_item_item(X, X_pred_item_item)))\n",
    "    \n",
    "    # matrix-factorization approach\n",
    "    X_sparse = sp.coo_matrix(X)\n",
    "    U, V = low_rank_matrix_factorization(X_sparse, 10, 15)\n",
    "    X_pred_mf = U @ V\n",
    "    print(\"The mean squared error of the predicted ratings in the matrix factorization approach is\", mean_rating_diff(X, X_pred_mf))\n",
    "    print(\"The top 10 most frequently recommended movies in the user-user approach is\")\n",
    "    print(most_recommended_movies(recommend_mf(X_sparse, U, V)))\n",
    "\n",
    "compare_cf_approaches()"
   ]
  }
 ],
 "metadata": {
  "celltoolbar": "Tags",
  "colab": {
   "collapsed_sections": [],
   "name": "Foundations MCDS - Project 1.ipynb",
   "provenance": [],
   "toc_visible": true
  },
  "kernel_info": {
   "name": "python3"
  },
  "kernelspec": {
   "display_name": "Python 3",
   "language": "python",
   "name": "python3"
  },
  "language_info": {
   "codemirror_mode": {
    "name": "ipython",
    "version": 3
   },
   "file_extension": ".py",
   "mimetype": "text/x-python",
   "name": "python",
   "nbconvert_exporter": "python",
   "pygments_lexer": "ipython3",
   "version": "3.7.4"
  },
  "nteract": {
   "version": "nteract-front-end@1.0.0"
  }
 },
 "nbformat": 4,
 "nbformat_minor": 4
}
